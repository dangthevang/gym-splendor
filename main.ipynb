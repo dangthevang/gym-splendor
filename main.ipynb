{
 "cells": [
  {
   "cell_type": "code",
   "execution_count": null,
   "metadata": {},
   "outputs": [],
   "source": [
    "import gym\n",
    "import gym_splendor\n",
    "import os\n",
    "import pandas as pd\n",
    "from colorama import Fore, Back, Style\n",
    "\n",
    "def winner(message):\n",
    "    print(Fore.MAGENTA + message, end='')\n",
    "    print(Style.RESET_ALL)\n",
    "    pass\n",
    "\n",
    "def Thongbao(message):\n",
    "    print(Fore.GREEN + message, end='')\n",
    "    print(Style.RESET_ALL)\n",
    "    pass\n",
    "\n",
    "def main(data):\n",
    "    \n",
    "    \n",
    "    env = gym.make('gym_splendor-v0')\n",
    "    env.reset()\n",
    "    while env.turn <500:\n",
    "        #env.render()\n",
    "        o,a,done,t = env.step(env.player[env.turn%env.amount_player].action(env.state, data))\n",
    "        if done == True:\n",
    "            break\n",
    "\n",
    "    print(Fore.LIGHTGREEN_EX, 'Win, name:', Fore.LIGHTMAGENTA_EX, env.pVictory.name, Fore.LIGHTCYAN_EX, env.pVictory.score, end='   ')\n",
    "    for p in env.player:\n",
    "        if p.name != env.pVictory.name:\n",
    "            print(Fore.RED, 'Lose, name:', Fore.MAGENTA, p.name, Fore.CYAN, p.score, end='   ')\n",
    "    \n",
    "    print(Fore.YELLOW, '   ROUND:', Fore.LIGHTYELLOW_EX, (env.turn+1)//4, end='')\n",
    "    \n",
    "    print(Style.RESET_ALL)\n",
    "\n",
    "    learning(env)\n",
    "\n",
    "def learning(env):\n",
    "    global data\n",
    "    win_score = 0\n",
    "    for p in env.player:\n",
    "        if p.name == env.pVictory.name:\n",
    "            win_score = p.score\n",
    "            \n",
    "    for p in env.player:\n",
    "        len_action = p.history_action.__len__()\n",
    "        if p.name == env.pVictory.name:\n",
    "            win_score = p.score\n",
    "            for i in range(len_action):\n",
    "                # Điểm càng cao, round càng thấp thì trừ càng ít\n",
    "                data[p.history_action[i]['action']].loc[p.history_action[i]['state_element_id']] *= (1-0.01*((30-p.score)/15)*(len_action/35))\n",
    "        else:\n",
    "            for i in range(len_action):\n",
    "                # Điểm càng gần người chiến thằng thì trừ càng ít\n",
    "                data[p.history_action[i]['action']].loc[p.history_action[i]['state_element_id']] *= (1-0.1*(p.score/win_score))\n"
   ]
  },
  {
   "cell_type": "code",
   "execution_count": null,
   "metadata": {},
   "outputs": [],
   "source": [
    "data = pd.read_csv('gym_splendor/envs/agents/agent_Ann_policy/Ann_policy_training_data.csv', index_col='state_element')\n",
    "data"
   ]
  },
  {
   "cell_type": "code",
   "execution_count": null,
   "metadata": {},
   "outputs": [],
   "source": [
    "if __name__ == '__main__':\n",
    "    for i in range(1,4001):\n",
    "        print('Game', i, end='      ')\n",
    "        main(data)\n",
    "\n",
    "        # if i % 100 == 0:\n",
    "        #     data.to_csv('gym_splendor/envs/agents/agent_Ann_policy/Ann_policy_training_data.csv')\n",
    "        #     data = pd.read_csv('gym_splendor/envs/agents/agent_Ann_policy/Ann_policy_training_data.csv', index_col='state_element')\n",
    "        #     print('Đã lưu')"
   ]
  }
 ],
 "metadata": {
  "interpreter": {
   "hash": "4744879b1ea232a6c1c0f721923f08269b4369f173b01bf42db1ade4d6cbcf01"
  },
  "kernelspec": {
   "display_name": "Python 3.10.2 64-bit",
   "language": "python",
   "name": "python3"
  },
  "language_info": {
   "codemirror_mode": {
    "name": "ipython",
    "version": 3
   },
   "file_extension": ".py",
   "mimetype": "text/x-python",
   "name": "python",
   "nbconvert_exporter": "python",
   "pygments_lexer": "ipython3",
   "version": "3.10.2"
  },
  "orig_nbformat": 4
 },
 "nbformat": 4,
 "nbformat_minor": 2
}

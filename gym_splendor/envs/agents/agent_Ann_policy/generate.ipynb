{
 "cells": [
  {
   "cell_type": "code",
   "execution_count": null,
   "metadata": {},
   "outputs": [],
   "source": [
    "list_action = [f'Target_{k}' for k in range(90)] + [f'Get_{k}' for k in range(90)] + [f'Upside_{k}' for k in range(90)]\n",
    "list_action"
   ]
  },
  {
   "cell_type": "code",
   "execution_count": null,
   "metadata": {},
   "outputs": [],
   "source": [
    "list_state_element = []\n",
    "for s in ['B', 'P']:\n",
    "    for c in ['R', 'Blu', 'G', 'Bl', 'W', 'A']:\n",
    "        if c != 'A':\n",
    "            for k in range(8):\n",
    "                list_state_element.append(f'{k}{s}{c}')\n",
    "        else:\n",
    "            for k in range(6):\n",
    "                list_state_element.append(f'{k}{s}{c}')\n",
    "\n",
    "list_state_element.__len__()"
   ]
  },
  {
   "cell_type": "code",
   "execution_count": null,
   "metadata": {},
   "outputs": [],
   "source": [
    "for s in ['Pc']:\n",
    "    for c in ['R', 'Blu', 'G', 'Bl', 'W']:\n",
    "        for k in range(19):\n",
    "            list_state_element.append(f'{k}{s}{c}')\n",
    "\n",
    "list_state_element.__len__()"
   ]
  },
  {
   "cell_type": "code",
   "execution_count": null,
   "metadata": {},
   "outputs": [],
   "source": [
    "for c in range(90):\n",
    "    list_state_element.append(f'_{c}')\n",
    "\n",
    "list_state_element.__len__()"
   ]
  },
  {
   "cell_type": "code",
   "execution_count": null,
   "metadata": {},
   "outputs": [],
   "source": [
    "for n in range(10):\n",
    "    list_state_element.append(f'_{n+90}')\n",
    "\n",
    "list_state_element.__len__()"
   ]
  },
  {
   "cell_type": "code",
   "execution_count": null,
   "metadata": {},
   "outputs": [],
   "source": [
    "dict_training = {}\n",
    "dict_training['state_element'] = list_state_element\n",
    "for i in list_action:\n",
    "    dict_training[i] = [10000.00 for k in range(287)]\n",
    "\n",
    "dict_training"
   ]
  },
  {
   "cell_type": "code",
   "execution_count": null,
   "metadata": {},
   "outputs": [],
   "source": [
    "'''\n",
    "* Board stocks:\n",
    "    - red: 0 -> 7\n",
    "    - blue: 8 -> 15\n",
    "    - green: 16 -> 23\n",
    "    - black: 24 -> 31\n",
    "    - white: 32 -> 39\n",
    "    - auto_color: 40 -> 45\n",
    "* Self stocks:\n",
    "    - red: 46 -> 53\n",
    "    - blue: 54 -> 61\n",
    "    - green: 62 -> 69\n",
    "    - black: 70 -> 77\n",
    "    - white: 78 -> 85\n",
    "    - auto_color: 86 -> 91\n",
    "* Self const stocks:\n",
    "    - red: 92 -> 110\n",
    "    - blue: 111 -> 129\n",
    "    - green: 130 -> 148\n",
    "    - black: 149 -> 167\n",
    "    - white: 168 -> 186\n",
    "* Appearance stock cards:\n",
    "    - 187 -> 276\n",
    "* Appearance noble cards:\n",
    "    - 277 -> 286\n",
    "'''"
   ]
  },
  {
   "cell_type": "code",
   "execution_count": null,
   "metadata": {},
   "outputs": [],
   "source": [
    "import pandas\n",
    "training_data = pandas.DataFrame(dict_training)\n",
    "training_data"
   ]
  },
  {
   "cell_type": "code",
   "execution_count": null,
   "metadata": {},
   "outputs": [],
   "source": [
    "training_data.to_csv('Ann_policy_training_data.csv', index=False)"
   ]
  },
  {
   "cell_type": "code",
   "execution_count": null,
   "metadata": {},
   "outputs": [],
   "source": [
    "import pandas\n",
    "data = pandas.read_csv('Ann_policy_training_data.csv', index_col='state_element')\n",
    "data"
   ]
  },
  {
   "cell_type": "code",
   "execution_count": null,
   "metadata": {},
   "outputs": [],
   "source": [
    "sub_data = data.loc[['6BR', '5BBlu', '7BG', '4BBl', '4BW', '5BA', '0PR', '0PBlu', '0PG', '0PBl', '0PW', '0PA', '0PcR', '0PcBlu', '0PcG', '0PcBl', '0PcW', '_6', '_18', '_27', '_36', '_42', '_49', '_56', '_64', '_71', '_78', \n",
    "'_83', '_84', '_91', '_95', '_96', '_97', '_98']]\n",
    "sub_data"
   ]
  },
  {
   "cell_type": "code",
   "execution_count": null,
   "metadata": {},
   "outputs": [],
   "source": [
    "results = sub_data.sum(axis=0)\n",
    "results"
   ]
  },
  {
   "cell_type": "code",
   "execution_count": null,
   "metadata": {},
   "outputs": [],
   "source": [
    "import random\n",
    "\n",
    "def weighted_random(pairs):\n",
    "    total = sum(pair[1] for pair in pairs)\n",
    "    r = random.uniform(0, total)\n",
    "    for (value, weight) in pairs:\n",
    "        r -= weight\n",
    "        if r <= 0: return value\n",
    "\n",
    "weighted_random(list(results.items()))"
   ]
  },
  {
   "cell_type": "code",
   "execution_count": null,
   "metadata": {},
   "outputs": [],
   "source": [
    "from collections import Counter\n",
    "Counter(weighted_random(list(results.items())) for _ in range(2700))"
   ]
  }
 ],
 "metadata": {
  "interpreter": {
   "hash": "4744879b1ea232a6c1c0f721923f08269b4369f173b01bf42db1ade4d6cbcf01"
  },
  "kernelspec": {
   "display_name": "Python 3.10.2 64-bit",
   "language": "python",
   "name": "python3"
  },
  "language_info": {
   "codemirror_mode": {
    "name": "ipython",
    "version": 3
   },
   "file_extension": ".py",
   "mimetype": "text/x-python",
   "name": "python",
   "nbconvert_exporter": "python",
   "pygments_lexer": "ipython3",
   "version": "3.10.2"
  },
  "orig_nbformat": 4
 },
 "nbformat": 4,
 "nbformat_minor": 2
}

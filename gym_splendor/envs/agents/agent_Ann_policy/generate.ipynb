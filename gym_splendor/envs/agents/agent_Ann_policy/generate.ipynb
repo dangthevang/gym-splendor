{
 "cells": [
  {
   "cell_type": "code",
   "execution_count": 26,
   "metadata": {},
   "outputs": [
    {
     "data": {
      "text/plain": [
       "['1', '2', '3']"
      ]
     },
     "execution_count": 26,
     "metadata": {},
     "output_type": "execute_result"
    }
   ],
   "source": [
    "import itertools\n",
    "a = list(itertools.combinations(['1', '2', '3', '4', '5', '1', '6', '1', '2', '2', '6', '4', '5'], r=3))\n",
    "a\n",
    "sorted(a[0])"
   ]
  },
  {
   "cell_type": "code",
   "execution_count": 27,
   "metadata": {},
   "outputs": [
    {
     "data": {
      "text/plain": [
       "47"
      ]
     },
     "execution_count": 27,
     "metadata": {},
     "output_type": "execute_result"
    }
   ],
   "source": [
    "dict_a = {}\n",
    "for bo in a:\n",
    "    dict_a[tuple(sorted(bo))] = 1\n",
    "\n",
    "dict_a.keys().__len__()"
   ]
  }
 ],
 "metadata": {
  "language_info": {
   "name": "python"
  },
  "orig_nbformat": 4
 },
 "nbformat": 4,
 "nbformat_minor": 2
}
